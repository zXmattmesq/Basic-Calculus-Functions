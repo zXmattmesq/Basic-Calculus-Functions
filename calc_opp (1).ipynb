{
  "nbformat": 4,
  "nbformat_minor": 0,
  "metadata": {
    "colab": {
      "provenance": []
    },
    "kernelspec": {
      "name": "python3",
      "display_name": "Python 3"
    },
    "language_info": {
      "name": "python"
    }
  },
  "cells": [
    {
      "cell_type": "code",
      "source": [
        "import math"
      ],
      "metadata": {
        "id": "Ra7s-8DN9Ehk"
      },
      "execution_count": 21,
      "outputs": []
    },
    {
      "cell_type": "code",
      "execution_count": 22,
      "metadata": {
        "id": "oicecwVPifPu"
      },
      "outputs": [],
      "source": [
        "def derivative(f, x):\n",
        "  '''\n",
        "  This function approximates derivatives with the central difference method. It works because it is based on the Taylor series expansion of the function around the point x.\n",
        "  '''\n",
        "  h = 1e-5\n",
        "\n",
        "  f_plus = eval(f, {\"x\": x+h, \"math\": math})\n",
        "  f_minus = eval(f, {\"x\": x-h, \"math\": math})\n",
        "\n",
        "  return (f_plus - f_minus)/(2*h)\n"
      ]
    },
    {
      "cell_type": "code",
      "source": [
        "print(derivative(\"x**2+(2*x)**2\", 5))\n",
        "print(derivative(\"math.cos(x)\", 5))"
      ],
      "metadata": {
        "colab": {
          "base_uri": "https://localhost:8080/"
        },
        "id": "VwlsV6nZkMKU",
        "outputId": "146a22c0-2e77-4391-c9d6-ac884fa1e46c"
      },
      "execution_count": 25,
      "outputs": [
        {
          "output_type": "stream",
          "name": "stdout",
          "text": [
            "49.999999997396564\n",
            "0.9589242746105285\n"
          ]
        }
      ]
    },
    {
      "cell_type": "code",
      "source": [
        "def integral(f, a, b, n=1000):\n",
        "  '''\n",
        "  This function approximates integrations using the trapezoidal rule:\n",
        "  '''\n",
        "  h = (b - a)/n\n",
        "  total = 0.5 * (eval(f, {\"x\": a, \"math\": math}) + eval(f, {\"x\": b, \"math\": math}))\n",
        "  for i in range( 1, n):\n",
        "    total += eval(f, {\"x\": (a+i*h), \"math\": math})\n",
        "  return total * h"
      ],
      "metadata": {
        "id": "otnu9BxV5WZ6"
      },
      "execution_count": 29,
      "outputs": []
    },
    {
      "cell_type": "code",
      "source": [
        "print(integral(\"7*x\", 0, 1))\n",
        "print(integral(\"math.cos(x)\", 1, 5))"
      ],
      "metadata": {
        "colab": {
          "base_uri": "https://localhost:8080/"
        },
        "id": "ZdcWRH9c63c6",
        "outputId": "2ea27148-fd99-4941-8ef3-9fb9a0bce2f9"
      },
      "execution_count": 30,
      "outputs": [
        {
          "output_type": "stream",
          "name": "stdout",
          "text": [
            "3.5\n",
            "-1.8003928589433826\n"
          ]
        }
      ]
    }
  ]
}